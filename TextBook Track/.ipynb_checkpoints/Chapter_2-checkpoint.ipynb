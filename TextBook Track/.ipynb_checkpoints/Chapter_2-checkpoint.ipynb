{
 "cells": [
  {
   "cell_type": "markdown",
   "metadata": {},
   "source": [
    "# Implement MotifEnumeration"
   ]
  },
  {
   "cell_type": "code",
   "execution_count": 2,
   "metadata": {},
   "outputs": [],
   "source": [
    "l = ['A', 'C', 'G', 'T']\n",
    "\n",
    "def recursion(i,k,ans,st):\n",
    "    if(i==k):\n",
    "        st = st + \" \" + ans\n",
    "        return st\n",
    "    for x in range(0,4):\n",
    "        st = recursion(i+1, k, ans+l[x], st)\n",
    "    return st\n",
    "    \n",
    "def gen_all_k_mers(i,k,ans):\n",
    "    x = recursion(i, k, ans, \"\")\n",
    "    ret = x.split()\n",
    "    return ret"
   ]
  },
  {
   "cell_type": "code",
   "execution_count": 3,
   "metadata": {},
   "outputs": [],
   "source": [
    "def get_all_k_mers(pattern, k):\n",
    "    l = list()\n",
    "    length = len(pattern)\n",
    "    for i in range(0,length-k+1):\n",
    "        s = pattern[i:i+k]\n",
    "        l.append(s)\n",
    "        \n",
    "    return l"
   ]
  },
  {
   "cell_type": "code",
   "execution_count": 4,
   "metadata": {},
   "outputs": [],
   "source": [
    "def hamming_dis(a,b):\n",
    "    cnt = 0\n",
    "    for i in range(0, len(a)):\n",
    "        if(a[i]!=b[i]):\n",
    "            cnt += 1\n",
    "    return cnt"
   ]
  },
  {
   "cell_type": "code",
   "execution_count": 7,
   "metadata": {},
   "outputs": [],
   "source": [
    "def motifenumeration(dna, k, d):\n",
    "    motifs = gen_all_k_mers(0, k, \"\")\n",
    "    ans = list()\n",
    "    for m in motifs:\n",
    "        count = 0\n",
    "        for dd in dna:\n",
    "            k_mer = get_all_k_mers(dd, k)\n",
    "            for i in k_mer:\n",
    "                if(hamming_dis(m,i)<=d):\n",
    "                    count += 1\n",
    "                    break\n",
    "        if(count==len(dna)):\n",
    "            ans.append(m)\n",
    "    \n",
    "    ans = list(set(ans))\n",
    "    return ans"
   ]
  },
  {
   "cell_type": "code",
   "execution_count": 12,
   "metadata": {},
   "outputs": [
    {
     "name": "stdout",
     "output_type": "stream",
     "text": [
      "5\n",
      "2\n",
      "AGCGTATTTTCATCCGGACCACTTT CAAAGAGTATATATACTTAGGGAGT TGCTCACGCCAGTACTGTTTATTTG AGCTCCTGACATCTACCGCCGGGAG CGTAAATATTTACGAAATAGGCACG GTGGCCTGGAGTCTGGTTTAATATG CCGGCGTGTGATATAGCAACGGAAA GAACCATTTGATAACGGGCGGAGCT GCCTAAGTGACTACAGTTCGATGTC ATTTGTCAACTGCACTACACTGTGC\n",
      "CCATG GGTGC TACCC TACCT GAAAT TCTAA ACACG GTCAA TAATC GTACT TTTTA CTTTA GATGT TGTGC GACAT GCAGA CGTGA TGCGG ACGGA GGCCT TCTGT TTTAT CGAGA GTATA TTTAC ATTTC TCCGT CTGCG GAAGT GTTGA ACGTT GCATG ATCGT GCACT CAGAA CGCAG GACGG TATAT GAGCT CTTTT TAGCT CATTT TGAGC TCACG GGACT TCGTT GGACA TTCGG TCAGA TTCAG CCATA AATAC GGAAC ATAAC TGAAT CTATG TTAAA CATAC CATTG ACAGT ATTAA GTTAC AACGT TCATG TTACC TGCTC TTTTG TAATA GTATC CATGA TACTG GGTAC ATATG AGACG GTAAC AGTTT ATTTT TTTAA CGACT GAACA TACAG ACGCT ATATT GTAAG ACGGT TTGAG TTCGC AATCG GTTCG TATAA CATGT TCCTA CGGAA ACGTG TTCAT CCTAG GTTTC CAAAT GTTAT GGTCG TCGGC GGGCT TACAA TCAAT GCGTG GTGCG AACAG ACTTA TGAGT AGAGC CTAAC TAATG CTGGG CCTAA GGTAA TATGC TTGCG CTGAA GTGGA ACTGG CGTTA TACGA CACGT AACTG ATCAA ATCTT CTAAT TCTAT ATGTT ACCAT GGAAT TAACC AATTA AACTT ATGTA GACTT CCGGA AGCCT GACCA TATGT TTCTA CACGA CATCT GAACT TCGAG CGCGA ATACG CTTAT CATAA AAGTA AGATT TAACA CTGAC TGACG CATAT ACCAG TACTA TATGA TTGCT GGCGA TGTTA CTATC TGCTT TTATA GCAGC GCATA ACTAA AGACA TGAGG GCTAT AACAC ACGGG CGTCG AACTC GAATT GACAC ATTAC TATGG TTAGA CAGTC GCCAG ATCTC ATGCC CCAAG GGACG TATAC ATTCC TCATA TCGAC AATAT GCGCG CCGAG TAGAT GTTTA GCTTT CCTGA TATCT CACAT TTTCG TTACA ATACC GGCAC CAGTA TCATT ATATA CAGAT AGGAC TTACG GACCT AATGT GCAGT AGTCA ACAAT CGTCT GATAC TACCA TACGG TAGTG GTGAT AATCT ATTTA CTAGA CAGGT GCAAT ACGGC ATCAG TTGAT CTAGT TCAAG TCGAT CCAGA GCTTG ACTAC GTGAC ATGTG GGGAC GCGAC CATGC ACTTG TATTG TGGCA GTGTA ATGAC CTCGG GATAA AGTTA ACTGT TGGGT AGGGC CGTAA TCTTA CTTAG CGAGC GTACG GGGTC CGGTA TCGTA TCTGC CTTAA TCAGC ACTGA TATAG AAACT CCGTA TATTT AGGGT GATCT ACGTC ACAAG AGACC AGTAG TGACT TGTGA CTACT ACGAG ATGCT CGGAC AATGC ATGCA AATTT CAGAC GCATT TTGTG CGGCG ATCGG ACTAG CGTGT ATCCG TCGGT ACTAT ATGAG AGTAC TGTAA CTTGA GCTAA TGCAG TACAT AAATT AAACG TTCGT TCAAC ATTCA GTCGA TTATC GGACC ATGTC GGCAA CCACG CAGCA CGTTG TATCG GTAAT CCTTT GACAG AACTA TTAAC CGGGA AGTCG CAAGT AGCAG ACATG GCAGG TGGAT GGCTA ATTGA ACTCA TAACT CTACG TGTAG ATTTG CAATC GTACA TTGAC TTGTA ATATC TTTGA GTCGG AGTGA CAACA GATGC TAAAT CAGGG TTAGC CGGCA ATACT ACATC GTCAG ACATT TGATA GAGAA CAGGA AGCTT ATGGG ATACA ATCTG CATGG TATTC CTTCG CAATT CACGG AATCA TTTAG TTTGC ACAGG GTACC ATCTA TGTTC AAAAC CTATT GTGAA TGCAT CGAGT CTATA TGAAC AGCCA TCTGA TTCTG TGTAT CCTAT CAGAG TGGAC TTATG "
     ]
    }
   ],
   "source": [
    "k = int(input())\n",
    "d = int(input())\n",
    "\n",
    "string = input()\n",
    "dna = string.split()\n",
    "\n",
    "ans = motifenumeration(dna, k, d)\n",
    "\n",
    "for i in ans:\n",
    "    print(i, end=' ')"
   ]
  },
  {
   "cell_type": "markdown",
   "metadata": {},
   "source": [
    "# Find a Median String"
   ]
  },
  {
   "cell_type": "code",
   "execution_count": 44,
   "metadata": {},
   "outputs": [],
   "source": [
    "def find_a_median_string(dna, k):\n",
    "    ans = {}\n",
    "    motifs = gen_all_k_mers(0, k, \"\")\n",
    "    for m in motifs:\n",
    "        count = 0\n",
    "        for dd in dna:\n",
    "            k_mer = []\n",
    "            k_mer = get_all_k_mers(dd, k)\n",
    "            mini = 99999999\n",
    "            for i in k_mer:\n",
    "                if(hamming_dis(m,i)<mini):\n",
    "                    mini = hamming_dis(m,i)\n",
    "            count += mini\n",
    "        ans[m] = count\n",
    "    mini = 999999999\n",
    "    x = []\n",
    "    for keys,values in ans.items():\n",
    "        mini = min(mini,values)\n",
    "    for keys,values in ans.items():\n",
    "        if(values==mini):\n",
    "            x.append(keys)\n",
    "    return x"
   ]
  },
  {
   "cell_type": "code",
   "execution_count": 47,
   "metadata": {},
   "outputs": [
    {
     "name": "stdout",
     "output_type": "stream",
     "text": [
      "6\n",
      "CCGTGGACGTTGTACGTGCCGAATATTGGCCGGCCCCTTGCA CGTCTAGGTTAGATCCTTTACCTGAGTCCGACCAGGACACAA GAACCGTCTCCCGCACATTACATGGACGCCTCGCCGCCCTCA TCCAAACGTTATTACGTGATAATTGCGAAAAAGGCCATCAAA AAAACATACGTGGGATCATTTATCTCCTATAACACAATTGAA ATGATATACTTGCACATGATCTAACCTTCGCGCCGTCACATC TTTTGGATGTAAATAGTTCCGGCATGGACATACTTGCCACAC TGATGCACTAATAGCGAATACCTGCATCTTCTTTGATCTGCC TACCTGCGAATGATGTGCCTCGCTTTACGGTCGTGTAGTAGA CCCACGGAGTGCGGAATGCGGCTATACATGCAACAAGGGCAT\n",
      "TACCTG\n"
     ]
    }
   ],
   "source": [
    "k = int(input())\n",
    "string = input()\n",
    "\n",
    "dna = string.split()\n",
    "ans = find_a_median_string(dna, k)\n",
    "print(ans[0])"
   ]
  },
  {
   "cell_type": "markdown",
   "metadata": {},
   "source": [
    "# Find a Profile-most Probable k-mer in a String"
   ]
  },
  {
   "cell_type": "code",
   "execution_count": 68,
   "metadata": {},
   "outputs": [],
   "source": [
    "def profile_probable(text, profile):\n",
    "    mul = 1\n",
    "    for i in range(0, len(text)):\n",
    "        if(text[i]=='A'):\n",
    "            mul *= profile[0][i]\n",
    "        elif(text[i]=='C'):\n",
    "            mul *= profile[1][i]\n",
    "        elif(text[i]=='G'):\n",
    "            mul *= profile[2][i]\n",
    "        elif(text[i]=='T'):\n",
    "            mul *= profile[3][i]\n",
    "    return mul\n",
    "def profile_most_probable(text, k, profile):\n",
    "    k_mers = get_all_k_mers(text, k)\n",
    "    maxi = -5\n",
    "    ans = \"\"\n",
    "    for i in k_mers:\n",
    "        x = profile_probable(i, profile)\n",
    "        if(x>maxi):\n",
    "            maxi = x\n",
    "            ans = i\n",
    "    return ans"
   ]
  },
  {
   "cell_type": "code",
   "execution_count": 75,
   "metadata": {},
   "outputs": [
    {
     "name": "stdout",
     "output_type": "stream",
     "text": [
      "AGGGTGGCTCCAGTTGTTACACGGTCCCAGGCCGCGAAAAACGACAGCAGATGCAGGTAAGTAATCGTTCGTCGAATTCTTTTTCACGTAGTCTGGGTTCCGCCGAGATCATATAGGGCATGCTCTGGGATCCTTCCCGTTAGGCTGTGTATAATAAATTGTTTTCTACGTACCCGACAGACATAGGATCACAGCGACCA\n",
      "6\n",
      "0.242 0.273 0.364 0.182 0.212 0.424 0.273 0.152 0.424 0.364 0.273 0.182 0.242 0.242 0.152 0.273 0.242 0.242 0.242 0.333 0.061 0.182 0.273 0.152\n",
      "GTCCCA\n"
     ]
    }
   ],
   "source": [
    "text = input()\n",
    "k = int(input())\n",
    "\n",
    "profile = []\n",
    "number = input()\n",
    "number = number.split()\n",
    "number = [float(y) for y in number]\n",
    "\n",
    "for i in range(0,4):\n",
    "    x = []\n",
    "    for j in range(0,k):\n",
    "        xy = number[k*i+j]\n",
    "        x.append(xy)\n",
    "    profile.append(x)\n",
    "\n",
    "ans = profile_most_probable(text, k, profile)\n",
    "print(ans)"
   ]
  },
  {
   "cell_type": "markdown",
   "metadata": {},
   "source": [
    "# Implement GreedyMotifSearch"
   ]
  },
  {
   "cell_type": "code",
   "execution_count": null,
   "metadata": {},
   "outputs": [],
   "source": []
  },
  {
   "cell_type": "markdown",
   "metadata": {},
   "source": [
    "# Implement GreedyMotifSearch with Pseudocounts"
   ]
  },
  {
   "cell_type": "code",
   "execution_count": null,
   "metadata": {},
   "outputs": [],
   "source": []
  },
  {
   "cell_type": "markdown",
   "metadata": {},
   "source": [
    "# Implement RandomizedMotifSearch"
   ]
  },
  {
   "cell_type": "code",
   "execution_count": null,
   "metadata": {},
   "outputs": [],
   "source": []
  },
  {
   "cell_type": "markdown",
   "metadata": {},
   "source": [
    "# Implement GibbsSampler"
   ]
  },
  {
   "cell_type": "code",
   "execution_count": null,
   "metadata": {},
   "outputs": [],
   "source": []
  },
  {
   "cell_type": "markdown",
   "metadata": {},
   "source": [
    "# Implement DistanceBetweenPatternAndStrings"
   ]
  },
  {
   "cell_type": "code",
   "execution_count": 17,
   "metadata": {},
   "outputs": [],
   "source": [
    "def DistanceBetweenPatternAndStrings(pattern, dna):\n",
    "    k = len(pattern)\n",
    "    distance = 0\n",
    "    for string in dna:\n",
    "        hamming = 99999999\n",
    "        k_mers = get_all_k_mers(string, k)\n",
    "        for x in k_mers:\n",
    "            if hamming > hamming_dis(pattern, x):\n",
    "                hamming = hamming_dis(pattern, x)\n",
    "        distance = distance + hamming\n",
    "    return distance"
   ]
  },
  {
   "cell_type": "code",
   "execution_count": 19,
   "metadata": {},
   "outputs": [
    {
     "name": "stdout",
     "output_type": "stream",
     "text": [
      "TCGCT\n",
      "GAGTCGTCAAACATACGATTGATCGATAGATGAGGATTTTTGGCTTTTATGTCTCCCAATGATTGCCTGGCATCCGTTAGCTGCAGGTGAGTCACAATAT GTCGTTCCTCATGGCGGCGTAACTCGATACAGAGGGAAACGCATTCGTTCTGCCGGATTCCGTCGGCAACACTTAATCTAACTTCGGCGGTGACATTTAG AGCTCCGTTCCGGACCTTCTGTTACTTGTGAGAACGATTCGATAGCCGTTGACTCCAGATCGTCAGCTTTTTGTCTGTCGTACGACATTAGTTTCCGTTT CAGCTTCTACCCAGAATAGTGCACATGCTATTACACATTCCAGTCTGGTTTTGGTCGACAGGTTACTTTGGTACACGCGTAAGTTCGGGTAGTAGACCAG GATCTTCTAACTTATTATTTTCTCGAGCCGTCCGTGTAGAAGCAGAGACGAGTGATGGAATTCGTGGGGTCACGAATCGCATCAAAATACGATACGCACT TCTTAAAATCCTCACATATTCATCTATTGTACGGCATAAAGGGGCTAGTCTAGGGAAACGTATAACTAGGTCAGACCCTCTTCGAACACGGTTTGTAGCA GCATACCCGGGGGCCAGGCAACTGCCCTCTACAGCGGAGACTTCTAGCTAAGTTCCGCTTTTGCTGATCCGACGTTTGGCGTATAAACACCTCCCCCGGT CATGGGGGCCTGGCGTCGCACCTTAGGTGTTCACCGGTTCTAGAGGATATTGATGAAGGGATGACCAAAATGAGAACTGTGTATTTTCCAAAGAGTACGT TAACAGGCGGCTTTGTCTAACCGCGCTAACCTCCATATTCCCTCTCAGCTTTTGGCTAATATTATGGTGGCGTCTCGGAACTTGGACAGTCCTAATCTAA ATGAACAAAGCCTCAACCCAAGGTAGCGATTTAAGGAATCACAATGCCGAAATCAGTTACGCCGGTGATCAAGCACGGGTGAACTCTGGTAGACGCCATA AATTAAGTCTTTATAGCGGCGATTGGTTTTTGGGGGGCTGGAGTGTAGAACACAGGTGAGTTCAAGAGCGGTCATAGGCTGTGCCTAGGGCGATGGAGCT GGTGGAGTTAGAATTTAGAGCATTCATGAGTGCGGCTAGTATTATAGAAGGCTCGGCCAGTAAACGGCGTGTGGAGTATTGCGTAGCTGTGTCCATAAGA AACCTGCGCTGATCCCAATGGTATGGGTGGCTGTACGTACACCCTCATATTGACGAGCTGATTGCGGAGGTAAATTACGTTTAGTTCTGTATGTGTTCGG CAAACCATGTTCGCCTCGCGCATAAGTTATCCACGCGTGAAGACTCTAATGCTAGACTGGCTAGAGCTACCCTGCACGCACAATTCTAACCGGCATAGCC GAGCGGGGCGAAATACTACCTGAAACCCAGCCGCCTCGGTGGAACTGATCAGATGGAAGAAGTACTAGTCGGCCTACAGCGCCACCCCGGAAGTGGCCAT AACGGCCTCCATTAGTAGGTGAACAATTCTCCATTGTCTTATACCGGAGTTTGGAATTGCAAAATTATATATTATTGATAATTGCAAGTCCAACTCGGCC GGGCTGATCCCCAAGGTTCCGGAACCGGAAATGTTCGGTCCAGGAGCGGGAGGTCCAGAACACCCAGTTACAGTGAAATTGTACTTGCTCGCACTTAACG GGTAATCGACTTGAAAAAGTATACCTGGGATGTTCGACTACTCGACGATCAGCCGGATCCGAATTCTCCGAAGTGTGTTCATGCCTGGGAGTCTGTCTGC TTTTGTATGCCTTGTGGAAGTTCAGTCCCGTTGTTAACCCCTTTTACAAGCTGCATTACAACGACCCGTCGGGAGCGTAGTCCCCATCGACGATACATGC ATCAGATACTGAGTGAATCAATGCAATCATGTCCTCCACTCCAGATCAGGGAGCGCCATAGTGGACAGAATTGGATGCCTGAAATTATAGAAGTGGCCCG CCGTTCACGCCCATATCTGGGATGCTCACGTAACCCGTCTAGAAAAATACTCTCTGCGGTACCGTAGCCGGTCCCTTCTAATCTGTAATATTACTGGACG TAGATAAGTCATCCGTTACAGGTACGGGTTACCCGGGATATTCGGAAGCCTATCTGGCCTAGTGTCACGTTGTAAGATAAGTTAGCTCAGATAGTAGTAG TCGAATTACTGTAACCTTGGCGAGGCGCCTGACTCCCCACTTTTAAACACTTCCCGAGACGGCTCCCAGTAGACTCCAAAACCGAGGGGATTCAGAGATA ATCTACCATAGACTAATATCGACAGCAGAGAATACCAGGGGCCAAGAGCAGTCGCTAGAGGCTTTAGGCCTGCAAGGAGATCCTTCAACTATCGGTTTGT CTCGTTGCCTGTCCAGGGGCCCCGGGTATGCGCCGCGTTGTCCCTTTAACTTGCCACGGGACGTAAGTACGGCGGGTCCGCAGGGGCCAGAATCGCTACC TTTAACGAAAAATTGGATCGATAGACGTACTCTTTGCCGTATTGCGCGAGCACATACGGGGACAATCATCGGCGCGCCGCGTCCGGGGATAGACGAATTT ACCGCCCAGAAAAACAAATCTTATCGAGCGGCGTTCATCTCCGATCCAATCTTCGCACCGCGAACATATCATGCCTACGCGCTGAATCTAATTGGCCGGG CCGTCAGGGCTACAATCCCGTACACTGTCTGCCCACCCAATTCTCCTATTCGAACGTGTCGCGGACGATGCAATGGACGCATTGAGGTTCTACATTGTAT AAGCCGACAATTATACGATACTGTAATGCGCACGGAGCGCTTCGCTGACGCCATAATTGAGACCCTACACCAGTAGTTATGATCTTTGCCAACGACCCCG TTCCTGGTAGTACTCCACCGGTCCAGCGACGAGTCATCGTGTGTGCCTGGGTAGGCTGGCATGGTTCTTTTGCTTAGACGTTCGGCGTTAAGAACGTGTG AGAGAGAAACGCATAGTATGCTATTTGCAGACTTGCACCCAGTCGGCTCCCTGACTTTACGTCGAGCTGTGCCCATGAGCCGAATCGCTCTAAGATGCGA ACTGGGGCTATGATCCAGGACGTTGTAGATTGTCCCACCTACCTAATAATCGCTGCCGCTACGTGTATAGGTTATAAACGTTATACTTCAACCACGATCT CACGTTATATGCGATAATATGCAATACTATTTCTGTCAGCACCATTCACTTCCGCGGACCCGGTCGATCTGTGCTCTGCTGCCCCTACTCCCATACGATA ATCCATTTCAATTCAAACAAAGAGCCTACATCGCGACATGTTTGTATTTTGTGATGCTAGACTCAATCGCTTTGGAAGTGTAGTCCGATTCGTCCTTTAC ACAAACCTACGGCCACCGCGGAAAATTATGCAACCAAGCACAATCATGCGTTTGAGGTTCGGAAAAGGACCCCTATTCAGAAACGTTATTCGTTACAACG CTGCGCAATACATGTACGGTGACGCGCAGGAGTTCGAAAGATAATTGGGGGTCTTAGGTCAACACTTGTTAACAGTTTACTACACCTCCTGGGTTATCCC\n",
      "40\n"
     ]
    }
   ],
   "source": [
    "pattern = input()\n",
    "dna = input()\n",
    "dna = dna.split()\n",
    "\n",
    "ans = DistanceBetweenPatternAndStrings(pattern, dna)\n",
    "print(ans)"
   ]
  }
 ],
 "metadata": {
  "kernelspec": {
   "display_name": "Python 3",
   "language": "python",
   "name": "python3"
  },
  "language_info": {
   "codemirror_mode": {
    "name": "ipython",
    "version": 3
   },
   "file_extension": ".py",
   "mimetype": "text/x-python",
   "name": "python",
   "nbconvert_exporter": "python",
   "pygments_lexer": "ipython3",
   "version": "3.6.8"
  }
 },
 "nbformat": 4,
 "nbformat_minor": 2
}
